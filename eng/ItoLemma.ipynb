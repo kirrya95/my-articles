{
 "cells": [
  {
   "cell_type": "markdown",
   "id": "38a2bcc7-a0c9-4928-bb3e-9c8ed9fb6e74",
   "metadata": {},
   "source": [
    "# Ito's Lemma\n",
    "\n",
    "In this article, I will derive the Ito's formula for the Ito's process.\n",
    "\n",
    "**Disclaimer:** in some places I deliberately omit mathematical formalities so as not to complicate understanding.\n",
    "\n",
    "**What's in this article:**\n",
    "1. What is Ito's process\n",
    "2. Ito's Lemma\n",
    "3. Simple proof for Ito's Lemma\n",
    "4. Conclusion"
   ]
  },
  {
   "cell_type": "markdown",
   "id": "c7201172-b790-494f-8742-3035ff1901d2",
   "metadata": {},
   "source": [
    "### Ito's process\n",
    "\n",
    "Ito's process is a stochastic process that can be expressed as follows:\n",
    "\n",
    "$$dx = a(x, t)dt + b(x, t)dW$$\n",
    "\n",
    "$a(x,t)$ - a function responsible for 'drift'\n",
    "$b(x, t)$ - a function responsible for a volatility\n",
    "$dW$ - Wiener process (differential)\n"
   ]
  },
  {
   "cell_type": "markdown",
   "id": "2608c7ec-424b-4344-8d64-d070f5ef48fb",
   "metadata": {},
   "source": [
    "Quick reminder what is a Wiener process:\n",
    "\n",
    "The process $W_t$ is called a Wiener process, if the following properties are satisfied:\n",
    "\n",
    "\n",
    "- $W(0) = 0$ almost surely (i.e with probability $1$)\n",
    "- $W_t$ has independent increments\n",
    "- $W_t - W_s \\sim N(0, (t-s)),\\:\\: 0 \\leq s \\leq t \\lt \\infty $ - meaning that any difference is normally distributed\n",
    "\n",
    "Thus, $dW \\sim N(0, dt)$\n"
   ]
  },
  {
   "cell_type": "markdown",
   "id": "87c9e37d-33fe-4a84-bc17-63dcde440687",
   "metadata": {},
   "source": [
    "**Prerequisite:**\n",
    "\n",
    "It's important to know that the mean of $dW^2$ equals to $dt$.\n",
    "\n",
    "**How it's derived:**\n",
    "\n",
    "\n",
    "Since $dW \\sim N(0, dt)$, we can rewrite as follows:\n",
    "\n",
    "$$dW = \\sqrt{dt} \\cdot \\varepsilon$$\n",
    "\n",
    "$\\varepsilon$ - is a gaussian random variable, i.e $\\varepsilon \\sim N(0, 1)$\n",
    "\n",
    "Therefore, \n",
    "\n",
    "$$dW^2 = (\\sqrt{dt})^2 \\cdot \\varepsilon^2 $$\n",
    "\n",
    "$$dW^2 =  dt \\cdot \\varepsilon^2 $$\n",
    "\n",
    "Averaging (and since <$\\varepsilon^2$>$\\:=1$), we get \n",
    "\n",
    "$$<dW^2>\\: = \\:dt$$"
   ]
  },
  {
   "cell_type": "markdown",
   "id": "a83a7006-98eb-4ceb-b28f-7fe8208a2fba",
   "metadata": {},
   "source": [
    "### Ito's Lemma\n",
    "\n",
    "\n",
    "Now consider a function $F(x(t), t)$. We may want to write a stochastic differential equation for $F$. Ito's Lemma helps with it.\n",
    "\n",
    "Suppose that $F$ can be described in terms of Ito's process, i.e.\n",
    "\n",
    "$$dF(x(t), t) = A(x, t)dt + B(x, t)dW$$\n",
    "\n",
    "Let's expand the function $F$ in a Taylor series up to the second order (we will see later why it's essential)\n",
    "\n",
    "$$F(x, t) = F(x_0, t_0) + \\frac{\\partial F}{\\partial x} dx + \\frac{\\partial F}{\\partial t} dt + \\frac{1}{2}\\frac{\\partial^2 F}{\\partial x^2} dx^2 + \\frac{1}{2}\\frac{\\partial^2 F}{\\partial t^2} dt^2 + ...$$\n",
    "\n",
    "Since we need to consider powers not higher than 1, $\\frac{\\partial^2 F}{\\partial t^2} dt^2 \\rightarrow 0$\n",
    "\n",
    "Substituting $dx = a(x, t)dt + b(x, t)dW$ and moving $F_0$ to the left part, we get:\n",
    "\n",
    "$$F(x, t) - F(x_0, t_0) = \\frac{\\partial F}{\\partial x}(a(x, t)dt + b(x, t)dW) + \\frac{\\partial F}{\\partial t} dt + \\frac{1}{2}\\frac{\\partial^2 F}{\\partial x^2} ((a(x, t)dt + b(x, t)dW))^2$$\n",
    "\n",
    "$$dF(x, t) = \\frac{\\partial F}{\\partial x}(a(x, t)dt + b(x, t)dW) + \\frac{\\partial F}{\\partial t} dt + \\frac{1}{2}\\frac{\\partial^2 F}{\\partial x^2} (a^2(x, t)dt^2 + b^2(x, t)dW^2 + 2a(x, t)b(x, t)dtdW)$$\n",
    "\n",
    "Equation above has many things that tend to be zero.\n",
    "\n",
    "Indeed, \n",
    "\n",
    "- $2a(x, t)b(x, t)dtdW \\sim dt^{3/2} \\rightarrow 0$ \n",
    "- $a^2(x, t)dt^2 \\rightarrow 0$\n",
    "\n",
    "**Averaging** $F$, \n",
    "\n",
    "- $b^2(x, t)dW^2$ becomes $b^2(x,t)dt$\n",
    "- $\\frac{\\partial F}{\\partial x}b(x, t)dW$ becomes $0$\n",
    "\n",
    "Finally, we get:\n",
    "\n",
    "$$<dF(x, t)> = \\frac{\\partial F}{\\partial x}a(x, t)dt + \\frac{\\partial F}{\\partial t} dt + \\frac{1}{2}\\frac{\\partial^2 F}{\\partial x^2} b^2(x, t)dt$$"
   ]
  },
  {
   "cell_type": "markdown",
   "id": "2a3a1ab1-a0e3-469b-a440-537d41d38d0d",
   "metadata": {},
   "source": [
    "#### Let's now find the coefficients A(x, t) and B(x, t)\n",
    "\n",
    "Recalling that we suppose our function $F$ can be expressed in this form:\n",
    "\n",
    "$$dF(x(t), t) = A(x, t)dt + B(x, t)dW$$\n",
    "\n",
    "so we can easily find the coefficient $A(x,t)$:\n",
    "\n",
    "$$A(x, t) = \\frac{\\partial F}{\\partial x}a(x, t) + \\frac{\\partial F}{\\partial t} + \\frac{1}{2}\\frac{\\partial^2 F}{\\partial x^2} b^2(x, t)$$\n",
    "\n",
    "The coefficient $B(x, t)$ is simply b(x, t), because when we were averaging $F$, we got rid of this $\\frac{\\partial F}{\\partial x}b(x, t)dW$ part\n",
    "\n",
    "$$B(x,t) = \\frac{\\partial F}{\\partial x} b(x, t)$$"
   ]
  },
  {
   "cell_type": "markdown",
   "id": "bfedbc8d-c4bb-4dee-a60d-3120070434b9",
   "metadata": {},
   "source": [
    "\n",
    "Finally, the stochastic differential equation for $F$ can be expressed as follows:\n",
    "\n",
    "$$dF = (\\frac{\\partial F}{\\partial x}a(x, t) + \\frac{\\partial F}{\\partial t} + \\frac{1}{2}\\frac{\\partial^2 F}{\\partial x^2} b^2(x, t))dt + \\frac{\\partial F}{\\partial x}b(x, t)dW$$\n",
    "\n",
    "\n",
    "#### That's it!"
   ]
  },
  {
   "cell_type": "markdown",
   "id": "0985a8bb-9635-4aef-8f84-6a503fbc59b6",
   "metadata": {},
   "source": [
    "### Conclustion\n",
    "\n",
    "From the derived Ito's formula we can see the additional term in the equation for $dF$: $\\:\\:\\frac{1}{2}\\frac{\\partial^2 F}{\\partial x^2} b^2(x, t)$. \n",
    "\n",
    "That's why we should use Ito's lemma when we want to write the stochastic differential equation for the composite stochastic functions."
   ]
  },
  {
   "cell_type": "markdown",
   "id": "c4bcf68f-d8b1-4318-8ae3-9f9b73e2e80e",
   "metadata": {},
   "source": [
    "#### Thanks for your time.\n",
    "\n",
    "Hope you enjoyed.\n",
    "\n",
    "##### My twitter:\n",
    "https://twitter.com/kirrya95\n",
    "\n",
    "##### My telegram:\n",
    "https://t.me/kirr_ya"
   ]
  }
 ],
 "metadata": {
  "kernelspec": {
   "display_name": "Python 3 (ipykernel)",
   "language": "python",
   "name": "python3"
  },
  "language_info": {
   "codemirror_mode": {
    "name": "ipython",
    "version": 3
   },
   "file_extension": ".py",
   "mimetype": "text/x-python",
   "name": "python",
   "nbconvert_exporter": "python",
   "pygments_lexer": "ipython3",
   "version": "3.9.13"
  }
 },
 "nbformat": 4,
 "nbformat_minor": 5
}
